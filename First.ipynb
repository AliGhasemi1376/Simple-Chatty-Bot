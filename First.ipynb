{
  "nbformat": 4,
  "nbformat_minor": 0,
  "metadata": {
    "colab": {
      "name": "First.ipynb",
      "provenance": [],
      "authorship_tag": "ABX9TyOJxOkYpMcwamkpmHl03hg+",
      "include_colab_link": true
    },
    "kernelspec": {
      "name": "python3",
      "display_name": "Python 3"
    }
  },
  "cells": [
    {
      "cell_type": "markdown",
      "metadata": {
        "id": "view-in-github",
        "colab_type": "text"
      },
      "source": [
        "<a href=\"https://colab.research.google.com/github/AliGhasemi1376/Simple-Chatty-Bot/blob/master/First.ipynb\" target=\"_parent\"><img src=\"https://colab.research.google.com/assets/colab-badge.svg\" alt=\"Open In Colab\"/></a>"
      ]
    },
    {
      "cell_type": "code",
      "metadata": {
        "id": "7BrDzmEzgq2J",
        "colab_type": "code",
        "outputId": "c3b61151-89a7-47b9-9d17-99da47e8d662",
        "colab": {
          "base_uri": "https://localhost:8080/",
          "height": 119
        }
      },
      "source": [
        "a = [input() for x in range(int(input()))]\n",
        "b = [a[x].split() for x in range(len(a)) if a[x].endswith('win')]\n",
        "c = [b[x][0] for x in range(len(b))]\n",
        "print(c)\n",
        "print(len(c))"
      ],
      "execution_count": 34,
      "outputs": [
        {
          "output_type": "stream",
          "text": [
            "3\n",
            "McEnroe win\n",
            "Borg loss\n",
            "McEnroe win\n",
            "['McEnroe', 'McEnroe']\n",
            "2\n"
          ],
          "name": "stdout"
        }
      ]
    }
  ]
}